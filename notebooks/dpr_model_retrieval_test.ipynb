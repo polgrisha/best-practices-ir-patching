{
 "cells": [
  {
   "cell_type": "code",
   "execution_count": 1,
   "metadata": {},
   "outputs": [
    {
     "ename": "ModuleNotFoundError",
     "evalue": "No module named 'pyterrier.dpr'",
     "output_type": "error",
     "traceback": [
      "\u001b[0;31m---------------------------------------------------------------------------\u001b[0m",
      "\u001b[0;31mModuleNotFoundError\u001b[0m                       Traceback (most recent call last)",
      "Cell \u001b[0;32mIn[1], line 3\u001b[0m\n\u001b[1;32m      1\u001b[0m \u001b[38;5;28;01mimport\u001b[39;00m \u001b[38;5;21;01mpyterrier\u001b[39;00m \u001b[38;5;28;01mas\u001b[39;00m \u001b[38;5;21;01mpt\u001b[39;00m\n\u001b[1;32m      2\u001b[0m \u001b[38;5;28;01mimport\u001b[39;00m \u001b[38;5;21;01mir_datasets\u001b[39;00m\n\u001b[0;32m----> 3\u001b[0m \u001b[38;5;28;01mfrom\u001b[39;00m \u001b[38;5;21;01mpyterrier\u001b[39;00m\u001b[38;5;21;01m.\u001b[39;00m\u001b[38;5;21;01mdpr\u001b[39;00m \u001b[38;5;28;01mimport\u001b[39;00m DenseRetriever\n\u001b[1;32m      5\u001b[0m \u001b[38;5;66;03m# Check if PyTerrier is initialized\u001b[39;00m\n\u001b[1;32m      6\u001b[0m \u001b[38;5;28;01mif\u001b[39;00m \u001b[38;5;129;01mnot\u001b[39;00m pt\u001b[38;5;241m.\u001b[39mstarted():\n",
      "\u001b[0;31mModuleNotFoundError\u001b[0m: No module named 'pyterrier.dpr'"
     ]
    }
   ],
   "source": [
    "import pyterrier as pt\n",
    "import ir_datasets\n",
    "from pyterrier.dpr import DenseRetriever\n",
    "\n",
    "# Check if PyTerrier is initialized\n",
    "if not pt.started():\n",
    "    pt.init()\n",
    "\n",
    "# Load the TREC-DL-19 dataset\n",
    "dataset = ir_datasets.load(\"trec-dl-19\")\n",
    "\n",
    "# Create an index for the dataset using PyTerrier (assuming you're using BM25 as a baseline)\n",
    "indexer = pt.DFReIndexer()\n",
    "index = indexer.fit(dataset.get_corpus_iter())\n",
    "\n",
    "# Now we need to set up the Dense Retriever (DPR). If you want to use a pretrained DPR model, you will need to load it.\n",
    "# For this example, we're assuming we use a pre-trained DPR model from HuggingFace.\n",
    "\n",
    "# Load the DPR model - you can substitute this part with the actual model you're using.\n",
    "from transformers import DPRContextEncoder, DPRQuestionEncoder, DPRReader\n",
    "from transformers import AutoTokenizer\n",
    "\n",
    "# Load pre-trained DPR models\n",
    "context_encoder = DPRContextEncoder.from_pretrained('facebook/dpr-ctx_encoder-single-nq-base')\n",
    "question_encoder = DPRQuestionEncoder.from_pretrained('facebook/dpr-question_encoder-single-nq-base')\n",
    "tokenizer = AutoTokenizer.from_pretrained('facebook/dpr-question_encoder-single-nq-base')\n",
    "\n",
    "# Initialize Dense Retriever in PyTerrier\n",
    "dpr_retriever = DenseRetriever(context_encoder, question_encoder, tokenizer)\n",
    "\n",
    "# Use the Dense Retriever to get results for a query from the TREC-DL-19 dataset\n",
    "# Get the first 10 queries from the dataset for testing\n",
    "queries = list(dataset.get_queries_iter())[:10]\n",
    "\n",
    "# Retrieve top 10 documents for each query\n",
    "results = []\n",
    "for query in queries:\n",
    "    query_text = query['query']\n",
    "    top_docs = dpr_retriever.retrieve(query_text, top_k=10)\n",
    "    results.append(top_docs)\n",
    "\n",
    "# Evaluate the retrieval performance\n",
    "# Use PyTerrier's built-in metrics to evaluate performance, such as MAP (Mean Average Precision) and NDCG (Normalized Discounted Cumulative Gain)\n",
    "eval_metric = pt.Utils.evaluate(results, dataset.get_qrels_iter(), metrics=[\"map\", \"ndcg\", \"P@10\"])\n",
    "\n",
    "# Display the results\n",
    "print(f\"Evaluation Results: {eval_metric}\")"
   ]
  },
  {
   "cell_type": "code",
   "execution_count": null,
   "metadata": {},
   "outputs": [],
   "source": []
  }
 ],
 "metadata": {
  "kernelspec": {
   "display_name": "Python 3 (ipykernel)",
   "language": "python",
   "name": "python3"
  },
  "language_info": {
   "codemirror_mode": {
    "name": "ipython",
    "version": 3
   },
   "file_extension": ".py",
   "mimetype": "text/x-python",
   "name": "python",
   "nbconvert_exporter": "python",
   "pygments_lexer": "ipython3",
   "version": "3.9.19"
  }
 },
 "nbformat": 4,
 "nbformat_minor": 2
}
