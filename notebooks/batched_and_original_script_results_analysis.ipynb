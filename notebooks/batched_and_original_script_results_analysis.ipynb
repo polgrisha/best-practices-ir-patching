{
 "cells": [
  {
   "cell_type": "code",
   "execution_count": 25,
   "metadata": {},
   "outputs": [],
   "source": [
    "import numpy as np\n",
    "import pandas as pd"
   ]
  },
  {
   "cell_type": "code",
   "execution_count": 26,
   "metadata": {},
   "outputs": [],
   "source": [
    "def load_data(data_path):\n",
    "    data = np.load(data_path)\n",
    "    queries = np.load(data_path.replace(\"patch_head\", \"queries\"))\n",
    "    documents = np.load(data_path.replace(\"patch_head\", \"documents\"))\n",
    "    \n",
    "    if len(queries.shape) == 3:\n",
    "        queries = queries.reshape(-1, queries.shape[-1])\n",
    "        documents = documents.reshape(-1, documents.shape[-1])\n",
    "    \n",
    "    return data, queries, documents"
   ]
  },
  {
   "cell_type": "code",
   "execution_count": 27,
   "metadata": {},
   "outputs": [],
   "source": [
    "data_path = '/mnt/qb/work/eickhoff/esx208/MechIR/data/patching/sebastian-hofstaetter-distilbert-dot-tas_b-b256-msmarco_bi_TFC1_4000_patch_head.npy'\n",
    "data_path_batched = '/mnt/qb/work/eickhoff/esx208/MechIR/data/patching/sebastian-hofstaetter-distilbert-dot-tas_b-b256-msmarco_bi_TFC1_4000_batch_size_100_patch_head.npy'\n",
    "\n",
    "data, queries, documents = load_data(data_path)\n",
    "data_batched, queries_batched, documents_batched = load_data(data_path_batched)"
   ]
  },
  {
   "cell_type": "code",
   "execution_count": 31,
   "metadata": {},
   "outputs": [
    {
     "data": {
      "text/plain": [
       "array([[ 2.70680548e-03,  4.69249301e-03,  2.48254463e-03,\n",
       "         5.58039127e-03,  3.06170341e-03,  4.18910349e-04,\n",
       "         3.16795520e-03, -5.11662848e-03,  3.77846695e-03,\n",
       "         6.09640847e-06,  5.35656605e-03,  1.69567252e-03],\n",
       "       [ 9.28700715e-03,  9.86050535e-03, -1.52105396e-03,\n",
       "        -1.41959230e-03,  2.77734967e-03, -2.86095747e-04,\n",
       "        -4.26748593e-05,  5.97883482e-04, -2.68633896e-03,\n",
       "         8.46486352e-03,  2.75993138e-03, -1.02506753e-03],\n",
       "       [ 5.77242812e-03, -3.53940064e-03, -2.89013307e-03,\n",
       "         3.72316368e-04,  2.20210990e-03,  3.88297671e-03,\n",
       "        -1.68391515e-03,  3.05299438e-03,  2.07931083e-03,\n",
       "        -3.14748869e-03,  6.69080857e-03,  2.18556239e-03],\n",
       "       [ 4.39202692e-03,  9.49297915e-04,  8.12912546e-03,\n",
       "         4.65513058e-02,  4.39376890e-04,  1.34865623e-02,\n",
       "         7.04004569e-03,  8.35369080e-02,  2.04447424e-03,\n",
       "         5.39967623e-05,  2.36039869e-02,  7.54822493e-02],\n",
       "       [ 8.02004337e-02,  7.10832551e-02,  6.08878806e-02,\n",
       "         4.61759418e-03,  4.33668010e-02,  1.72545779e-02,\n",
       "         1.77764311e-01,  2.78148651e-02,  8.58069491e-03,\n",
       "         1.10407263e-01,  8.59942008e-03,  7.22424418e-04],\n",
       "       [ 4.88270074e-02,  7.55432108e-03,  1.96609180e-03,\n",
       "         1.52331833e-02,  6.27538189e-03,  7.51661062e-02,\n",
       "         2.07321439e-03,  6.57388791e-02,  5.96659854e-02,\n",
       "        -6.63594063e-03,  1.42163895e-02,  2.30174270e-02]], dtype=float32)"
      ]
     },
     "execution_count": 31,
     "metadata": {},
     "output_type": "execute_result"
    }
   ],
   "source": [
    "data[0]"
   ]
  },
  {
   "cell_type": "code",
   "execution_count": 32,
   "metadata": {},
   "outputs": [
    {
     "data": {
      "text/plain": [
       "array([[0.02557354, 0.02403681, 0.02289069, 0.02311408, 0.02308272,\n",
       "        0.02361093, 0.02384913, 0.02219004, 0.02313367, 0.02337884,\n",
       "        0.025223  , 0.02366232],\n",
       "       [0.02370325, 0.02437211, 0.02142058, 0.02241735, 0.02324428,\n",
       "        0.02129604, 0.02467432, 0.02217959, 0.02183949, 0.02366798,\n",
       "        0.02697746, 0.0231942 ],\n",
       "       [0.03891465, 0.02095116, 0.02026444, 0.02254842, 0.02644141,\n",
       "        0.02397149, 0.02192093, 0.02775823, 0.02229106, 0.02150855,\n",
       "        0.0237346 , 0.02560707],\n",
       "       [0.02231327, 0.02665522, 0.02854641, 0.05761493, 0.02381168,\n",
       "        0.03670035, 0.0398413 , 0.06206226, 0.02192223, 0.02227887,\n",
       "        0.03273986, 0.06250468],\n",
       "       [0.09762257, 0.05466079, 0.0663624 , 0.02458375, 0.05988323,\n",
       "        0.0394925 , 0.10418231, 0.05830774, 0.02625198, 0.09361506,\n",
       "        0.02836264, 0.01709606],\n",
       "       [0.06281081, 0.02831431, 0.02586617, 0.03988659, 0.03119312,\n",
       "        0.07171199, 0.02892264, 0.07907862, 0.07053757, 0.01841114,\n",
       "        0.02905763, 0.05057315]], dtype=float32)"
      ]
     },
     "execution_count": 32,
     "metadata": {},
     "output_type": "execute_result"
    }
   ],
   "source": [
    "data_batched[0]"
   ]
  },
  {
   "cell_type": "code",
   "execution_count": 30,
   "metadata": {},
   "outputs": [
    {
     "data": {
      "text/plain": [
       "np.float32(40.948723)"
      ]
     },
     "execution_count": 30,
     "metadata": {},
     "output_type": "execute_result"
    }
   ],
   "source": [
    "np.linalg.norm(data_batched - data, axis=(1,2)).mean()"
   ]
  },
  {
   "cell_type": "code",
   "execution_count": 24,
   "metadata": {},
   "outputs": [
    {
     "data": {
      "text/plain": [
       "np.float32(0.19355729)"
      ]
     },
     "execution_count": 24,
     "metadata": {},
     "output_type": "execute_result"
    }
   ],
   "source": [
    "np.linalg.norm(data_batched - data, axis=(1,2))[0]"
   ]
  },
  {
   "cell_type": "code",
   "execution_count": 18,
   "metadata": {},
   "outputs": [
    {
     "data": {
      "text/plain": [
       "(4000, 6, 12)"
      ]
     },
     "execution_count": 18,
     "metadata": {},
     "output_type": "execute_result"
    }
   ],
   "source": [
    "(data_batched - data).shape"
   ]
  },
  {
   "cell_type": "code",
   "execution_count": null,
   "metadata": {},
   "outputs": [],
   "source": []
  }
 ],
 "metadata": {
  "kernelspec": {
   "display_name": "Python 3 (ipykernel)",
   "language": "python",
   "name": "python3"
  },
  "language_info": {
   "codemirror_mode": {
    "name": "ipython",
    "version": 3
   },
   "file_extension": ".py",
   "mimetype": "text/x-python",
   "name": "python",
   "nbconvert_exporter": "python",
   "pygments_lexer": "ipython3",
   "version": "3.9.19"
  }
 },
 "nbformat": 4,
 "nbformat_minor": 2
}
