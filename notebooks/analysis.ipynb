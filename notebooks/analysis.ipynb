{
 "cells": [
  {
   "cell_type": "code",
   "execution_count": 1,
   "metadata": {},
   "outputs": [
    {
     "name": "stdout",
     "output_type": "stream",
     "text": [
      "Requirement already satisfied: matplotlib in /home/andrew/miniconda3/lib/python3.12/site-packages (3.9.2)\n",
      "Requirement already satisfied: seaborn in /home/andrew/miniconda3/lib/python3.12/site-packages (0.13.2)\n",
      "Requirement already satisfied: plotly in /home/andrew/miniconda3/lib/python3.12/site-packages (5.24.1)\n",
      "Requirement already satisfied: streamlit in /home/andrew/miniconda3/lib/python3.12/site-packages (1.39.0)\n",
      "Requirement already satisfied: contourpy>=1.0.1 in /home/andrew/miniconda3/lib/python3.12/site-packages (from matplotlib) (1.3.0)\n",
      "Requirement already satisfied: cycler>=0.10 in /home/andrew/miniconda3/lib/python3.12/site-packages (from matplotlib) (0.12.1)\n",
      "Requirement already satisfied: fonttools>=4.22.0 in /home/andrew/miniconda3/lib/python3.12/site-packages (from matplotlib) (4.53.1)\n",
      "Requirement already satisfied: kiwisolver>=1.3.1 in /home/andrew/miniconda3/lib/python3.12/site-packages (from matplotlib) (1.4.7)\n",
      "Requirement already satisfied: numpy>=1.23 in /home/andrew/miniconda3/lib/python3.12/site-packages (from matplotlib) (1.26.4)\n",
      "Requirement already satisfied: packaging>=20.0 in /home/andrew/miniconda3/lib/python3.12/site-packages (from matplotlib) (23.2)\n",
      "Requirement already satisfied: pillow>=8 in /home/andrew/miniconda3/lib/python3.12/site-packages (from matplotlib) (10.3.0)\n",
      "Requirement already satisfied: pyparsing>=2.3.1 in /home/andrew/miniconda3/lib/python3.12/site-packages (from matplotlib) (3.1.4)\n",
      "Requirement already satisfied: python-dateutil>=2.7 in /home/andrew/miniconda3/lib/python3.12/site-packages (from matplotlib) (2.9.0)\n",
      "Requirement already satisfied: pandas>=1.2 in /home/andrew/miniconda3/lib/python3.12/site-packages (from seaborn) (2.2.2)\n",
      "Requirement already satisfied: tenacity>=6.2.0 in /home/andrew/miniconda3/lib/python3.12/site-packages (from plotly) (9.0.0)\n",
      "Requirement already satisfied: altair<6,>=4.0 in /home/andrew/miniconda3/lib/python3.12/site-packages (from streamlit) (5.4.1)\n",
      "Requirement already satisfied: blinker<2,>=1.0.0 in /home/andrew/miniconda3/lib/python3.12/site-packages (from streamlit) (1.8.2)\n",
      "Requirement already satisfied: cachetools<6,>=4.0 in /home/andrew/miniconda3/lib/python3.12/site-packages (from streamlit) (5.5.0)\n",
      "Requirement already satisfied: click<9,>=7.0 in /home/andrew/miniconda3/lib/python3.12/site-packages (from streamlit) (8.1.7)\n",
      "Requirement already satisfied: protobuf<6,>=3.20 in /home/andrew/miniconda3/lib/python3.12/site-packages (from streamlit) (5.28.3)\n",
      "Requirement already satisfied: pyarrow>=7.0 in /home/andrew/miniconda3/lib/python3.12/site-packages (from streamlit) (18.0.0)\n",
      "Requirement already satisfied: requests<3,>=2.27 in /home/andrew/miniconda3/lib/python3.12/site-packages (from streamlit) (2.32.3)\n",
      "Requirement already satisfied: rich<14,>=10.14.0 in /home/andrew/miniconda3/lib/python3.12/site-packages (from streamlit) (13.7.1)\n",
      "Requirement already satisfied: toml<2,>=0.10.1 in /home/andrew/miniconda3/lib/python3.12/site-packages (from streamlit) (0.10.2)\n",
      "Requirement already satisfied: typing-extensions<5,>=4.3.0 in /home/andrew/miniconda3/lib/python3.12/site-packages (from streamlit) (4.11.0)\n",
      "Requirement already satisfied: gitpython!=3.1.19,<4,>=3.0.7 in /home/andrew/miniconda3/lib/python3.12/site-packages (from streamlit) (3.1.43)\n",
      "Requirement already satisfied: pydeck<1,>=0.8.0b4 in /home/andrew/miniconda3/lib/python3.12/site-packages (from streamlit) (0.9.1)\n",
      "Requirement already satisfied: tornado<7,>=6.0.3 in /home/andrew/miniconda3/lib/python3.12/site-packages (from streamlit) (6.4)\n",
      "Requirement already satisfied: watchdog<6,>=2.1.5 in /home/andrew/miniconda3/lib/python3.12/site-packages (from streamlit) (5.0.3)\n",
      "Requirement already satisfied: jinja2 in /home/andrew/miniconda3/lib/python3.12/site-packages (from altair<6,>=4.0->streamlit) (3.1.3)\n",
      "Requirement already satisfied: jsonschema>=3.0 in /home/andrew/miniconda3/lib/python3.12/site-packages (from altair<6,>=4.0->streamlit) (4.22.0)\n",
      "Requirement already satisfied: narwhals>=1.5.2 in /home/andrew/miniconda3/lib/python3.12/site-packages (from altair<6,>=4.0->streamlit) (1.11.1)\n",
      "Requirement already satisfied: gitdb<5,>=4.0.1 in /home/andrew/miniconda3/lib/python3.12/site-packages (from gitpython!=3.1.19,<4,>=3.0.7->streamlit) (4.0.11)\n",
      "Requirement already satisfied: pytz>=2020.1 in /home/andrew/miniconda3/lib/python3.12/site-packages (from pandas>=1.2->seaborn) (2024.1)\n",
      "Requirement already satisfied: tzdata>=2022.7 in /home/andrew/miniconda3/lib/python3.12/site-packages (from pandas>=1.2->seaborn) (2024.1)\n",
      "Requirement already satisfied: six>=1.5 in /home/andrew/miniconda3/lib/python3.12/site-packages (from python-dateutil>=2.7->matplotlib) (1.16.0)\n",
      "Requirement already satisfied: charset-normalizer<4,>=2 in /home/andrew/miniconda3/lib/python3.12/site-packages (from requests<3,>=2.27->streamlit) (2.0.4)\n",
      "Requirement already satisfied: idna<4,>=2.5 in /home/andrew/miniconda3/lib/python3.12/site-packages (from requests<3,>=2.27->streamlit) (3.4)\n",
      "Requirement already satisfied: urllib3<3,>=1.21.1 in /home/andrew/miniconda3/lib/python3.12/site-packages (from requests<3,>=2.27->streamlit) (2.1.0)\n",
      "Requirement already satisfied: certifi>=2017.4.17 in /home/andrew/miniconda3/lib/python3.12/site-packages (from requests<3,>=2.27->streamlit) (2024.2.2)\n",
      "Requirement already satisfied: markdown-it-py>=2.2.0 in /home/andrew/miniconda3/lib/python3.12/site-packages (from rich<14,>=10.14.0->streamlit) (3.0.0)\n",
      "Requirement already satisfied: pygments<3.0.0,>=2.13.0 in /home/andrew/miniconda3/lib/python3.12/site-packages (from rich<14,>=10.14.0->streamlit) (2.18.0)\n",
      "Requirement already satisfied: smmap<6,>=3.0.1 in /home/andrew/miniconda3/lib/python3.12/site-packages (from gitdb<5,>=4.0.1->gitpython!=3.1.19,<4,>=3.0.7->streamlit) (5.0.1)\n",
      "Requirement already satisfied: MarkupSafe>=2.0 in /home/andrew/miniconda3/lib/python3.12/site-packages (from jinja2->altair<6,>=4.0->streamlit) (2.1.5)\n",
      "Requirement already satisfied: attrs>=22.2.0 in /home/andrew/miniconda3/lib/python3.12/site-packages (from jsonschema>=3.0->altair<6,>=4.0->streamlit) (23.2.0)\n",
      "Requirement already satisfied: jsonschema-specifications>=2023.03.6 in /home/andrew/miniconda3/lib/python3.12/site-packages (from jsonschema>=3.0->altair<6,>=4.0->streamlit) (2023.12.1)\n",
      "Requirement already satisfied: referencing>=0.28.4 in /home/andrew/miniconda3/lib/python3.12/site-packages (from jsonschema>=3.0->altair<6,>=4.0->streamlit) (0.35.1)\n",
      "Requirement already satisfied: rpds-py>=0.7.1 in /home/andrew/miniconda3/lib/python3.12/site-packages (from jsonschema>=3.0->altair<6,>=4.0->streamlit) (0.18.1)\n",
      "Requirement already satisfied: mdurl~=0.1 in /home/andrew/miniconda3/lib/python3.12/site-packages (from markdown-it-py>=2.2.0->rich<14,>=10.14.0->streamlit) (0.1.2)\n",
      "Note: you may need to restart the kernel to use updated packages.\n",
      "Looking in indexes: https://download.pytorch.org/whl/cpu\n",
      "Requirement already satisfied: torch in /home/andrew/miniconda3/lib/python3.12/site-packages (2.5.0+cpu)\n",
      "Requirement already satisfied: torchvision in /home/andrew/miniconda3/lib/python3.12/site-packages (0.20.0+cpu)\n",
      "Requirement already satisfied: torchaudio in /home/andrew/miniconda3/lib/python3.12/site-packages (2.5.0+cpu)\n",
      "Requirement already satisfied: filelock in /home/andrew/miniconda3/lib/python3.12/site-packages (from torch) (3.13.1)\n",
      "Requirement already satisfied: typing-extensions>=4.8.0 in /home/andrew/miniconda3/lib/python3.12/site-packages (from torch) (4.11.0)\n",
      "Requirement already satisfied: networkx in /home/andrew/miniconda3/lib/python3.12/site-packages (from torch) (3.2.1)\n",
      "Requirement already satisfied: jinja2 in /home/andrew/miniconda3/lib/python3.12/site-packages (from torch) (3.1.3)\n",
      "Requirement already satisfied: fsspec in /home/andrew/miniconda3/lib/python3.12/site-packages (from torch) (2024.2.0)\n",
      "Requirement already satisfied: setuptools in /home/andrew/miniconda3/lib/python3.12/site-packages (from torch) (68.2.2)\n",
      "Requirement already satisfied: sympy==1.13.1 in /home/andrew/miniconda3/lib/python3.12/site-packages (from torch) (1.13.1)\n",
      "Requirement already satisfied: mpmath<1.4,>=1.1.0 in /home/andrew/miniconda3/lib/python3.12/site-packages (from sympy==1.13.1->torch) (1.3.0)\n",
      "Requirement already satisfied: numpy in /home/andrew/miniconda3/lib/python3.12/site-packages (from torchvision) (1.26.4)\n",
      "Requirement already satisfied: pillow!=8.3.*,>=5.3.0 in /home/andrew/miniconda3/lib/python3.12/site-packages (from torchvision) (10.3.0)\n",
      "Requirement already satisfied: MarkupSafe>=2.0 in /home/andrew/miniconda3/lib/python3.12/site-packages (from jinja2->torch) (2.1.5)\n",
      "Note: you may need to restart the kernel to use updated packages.\n",
      "Requirement already satisfied: jaxtyping in /home/andrew/miniconda3/lib/python3.12/site-packages (0.2.34)\n",
      "Requirement already satisfied: transformer_lens in /home/andrew/miniconda3/lib/python3.12/site-packages (2.8.1)\n",
      "Requirement already satisfied: typeguard==2.13.3 in /home/andrew/miniconda3/lib/python3.12/site-packages (from jaxtyping) (2.13.3)\n",
      "Requirement already satisfied: accelerate>=0.23.0 in /home/andrew/miniconda3/lib/python3.12/site-packages (from transformer_lens) (1.0.1)\n",
      "Requirement already satisfied: beartype<0.15.0,>=0.14.1 in /home/andrew/miniconda3/lib/python3.12/site-packages (from transformer_lens) (0.14.1)\n",
      "Requirement already satisfied: better-abc<0.0.4,>=0.0.3 in /home/andrew/miniconda3/lib/python3.12/site-packages (from transformer_lens) (0.0.3)\n",
      "Requirement already satisfied: datasets>=2.7.1 in /home/andrew/miniconda3/lib/python3.12/site-packages (from transformer_lens) (3.0.2)\n",
      "Requirement already satisfied: einops>=0.6.0 in /home/andrew/miniconda3/lib/python3.12/site-packages (from transformer_lens) (0.8.0)\n",
      "Requirement already satisfied: fancy-einsum>=0.0.3 in /home/andrew/miniconda3/lib/python3.12/site-packages (from transformer_lens) (0.0.3)\n",
      "Requirement already satisfied: numpy>=1.26 in /home/andrew/miniconda3/lib/python3.12/site-packages (from transformer_lens) (1.26.4)\n",
      "Requirement already satisfied: pandas>=1.1.5 in /home/andrew/miniconda3/lib/python3.12/site-packages (from transformer_lens) (2.2.2)\n",
      "Requirement already satisfied: rich>=12.6.0 in /home/andrew/miniconda3/lib/python3.12/site-packages (from transformer_lens) (13.7.1)\n",
      "Requirement already satisfied: sentencepiece in /home/andrew/miniconda3/lib/python3.12/site-packages (from transformer_lens) (0.2.0)\n",
      "Requirement already satisfied: torch>=1.10 in /home/andrew/miniconda3/lib/python3.12/site-packages (from transformer_lens) (2.5.0+cpu)\n",
      "Requirement already satisfied: tqdm>=4.64.1 in /home/andrew/miniconda3/lib/python3.12/site-packages (from transformer_lens) (4.66.6)\n",
      "Requirement already satisfied: transformers>=4.37.2 in /home/andrew/miniconda3/lib/python3.12/site-packages (from transformer_lens) (4.46.0)\n",
      "Requirement already satisfied: typing-extensions in /home/andrew/miniconda3/lib/python3.12/site-packages (from transformer_lens) (4.11.0)\n",
      "Requirement already satisfied: wandb>=0.13.5 in /home/andrew/miniconda3/lib/python3.12/site-packages (from transformer_lens) (0.18.5)\n",
      "Requirement already satisfied: packaging>=20.0 in /home/andrew/miniconda3/lib/python3.12/site-packages (from accelerate>=0.23.0->transformer_lens) (23.2)\n",
      "Requirement already satisfied: psutil in /home/andrew/miniconda3/lib/python3.12/site-packages (from accelerate>=0.23.0->transformer_lens) (5.9.8)\n",
      "Requirement already satisfied: pyyaml in /home/andrew/miniconda3/lib/python3.12/site-packages (from accelerate>=0.23.0->transformer_lens) (6.0.1)\n",
      "Requirement already satisfied: huggingface-hub>=0.21.0 in /home/andrew/miniconda3/lib/python3.12/site-packages (from accelerate>=0.23.0->transformer_lens) (0.26.2)\n",
      "Requirement already satisfied: safetensors>=0.4.3 in /home/andrew/miniconda3/lib/python3.12/site-packages (from accelerate>=0.23.0->transformer_lens) (0.4.5)\n",
      "Requirement already satisfied: filelock in /home/andrew/miniconda3/lib/python3.12/site-packages (from datasets>=2.7.1->transformer_lens) (3.13.1)\n",
      "Requirement already satisfied: pyarrow>=15.0.0 in /home/andrew/miniconda3/lib/python3.12/site-packages (from datasets>=2.7.1->transformer_lens) (18.0.0)\n",
      "Requirement already satisfied: dill<0.3.9,>=0.3.0 in /home/andrew/miniconda3/lib/python3.12/site-packages (from datasets>=2.7.1->transformer_lens) (0.3.8)\n",
      "Requirement already satisfied: requests>=2.32.2 in /home/andrew/miniconda3/lib/python3.12/site-packages (from datasets>=2.7.1->transformer_lens) (2.32.3)\n",
      "Requirement already satisfied: xxhash in /home/andrew/miniconda3/lib/python3.12/site-packages (from datasets>=2.7.1->transformer_lens) (3.5.0)\n",
      "Requirement already satisfied: multiprocess<0.70.17 in /home/andrew/miniconda3/lib/python3.12/site-packages (from datasets>=2.7.1->transformer_lens) (0.70.16)\n",
      "Requirement already satisfied: fsspec<=2024.9.0,>=2023.1.0 in /home/andrew/miniconda3/lib/python3.12/site-packages (from fsspec[http]<=2024.9.0,>=2023.1.0->datasets>=2.7.1->transformer_lens) (2024.2.0)\n",
      "Requirement already satisfied: aiohttp in /home/andrew/miniconda3/lib/python3.12/site-packages (from datasets>=2.7.1->transformer_lens) (3.10.10)\n",
      "Requirement already satisfied: python-dateutil>=2.8.2 in /home/andrew/miniconda3/lib/python3.12/site-packages (from pandas>=1.1.5->transformer_lens) (2.9.0)\n",
      "Requirement already satisfied: pytz>=2020.1 in /home/andrew/miniconda3/lib/python3.12/site-packages (from pandas>=1.1.5->transformer_lens) (2024.1)\n",
      "Requirement already satisfied: tzdata>=2022.7 in /home/andrew/miniconda3/lib/python3.12/site-packages (from pandas>=1.1.5->transformer_lens) (2024.1)\n",
      "Requirement already satisfied: markdown-it-py>=2.2.0 in /home/andrew/miniconda3/lib/python3.12/site-packages (from rich>=12.6.0->transformer_lens) (3.0.0)\n",
      "Requirement already satisfied: pygments<3.0.0,>=2.13.0 in /home/andrew/miniconda3/lib/python3.12/site-packages (from rich>=12.6.0->transformer_lens) (2.18.0)\n",
      "Requirement already satisfied: networkx in /home/andrew/miniconda3/lib/python3.12/site-packages (from torch>=1.10->transformer_lens) (3.2.1)\n",
      "Requirement already satisfied: jinja2 in /home/andrew/miniconda3/lib/python3.12/site-packages (from torch>=1.10->transformer_lens) (3.1.3)\n",
      "Requirement already satisfied: setuptools in /home/andrew/miniconda3/lib/python3.12/site-packages (from torch>=1.10->transformer_lens) (68.2.2)\n",
      "Requirement already satisfied: sympy==1.13.1 in /home/andrew/miniconda3/lib/python3.12/site-packages (from torch>=1.10->transformer_lens) (1.13.1)\n",
      "Requirement already satisfied: mpmath<1.4,>=1.1.0 in /home/andrew/miniconda3/lib/python3.12/site-packages (from sympy==1.13.1->torch>=1.10->transformer_lens) (1.3.0)\n",
      "Requirement already satisfied: regex!=2019.12.17 in /home/andrew/miniconda3/lib/python3.12/site-packages (from transformers>=4.37.2->transformer_lens) (2024.4.28)\n",
      "Requirement already satisfied: tokenizers<0.21,>=0.20 in /home/andrew/miniconda3/lib/python3.12/site-packages (from transformers>=4.37.2->transformer_lens) (0.20.1)\n",
      "Requirement already satisfied: click!=8.0.0,>=7.1 in /home/andrew/miniconda3/lib/python3.12/site-packages (from wandb>=0.13.5->transformer_lens) (8.1.7)\n",
      "Requirement already satisfied: docker-pycreds>=0.4.0 in /home/andrew/miniconda3/lib/python3.12/site-packages (from wandb>=0.13.5->transformer_lens) (0.4.0)\n",
      "Requirement already satisfied: gitpython!=3.1.29,>=1.0.0 in /home/andrew/miniconda3/lib/python3.12/site-packages (from wandb>=0.13.5->transformer_lens) (3.1.43)\n",
      "Requirement already satisfied: platformdirs in /home/andrew/miniconda3/lib/python3.12/site-packages (from wandb>=0.13.5->transformer_lens) (3.10.0)\n",
      "Requirement already satisfied: protobuf!=4.21.0,!=5.28.0,<6,>=3.19.0 in /home/andrew/miniconda3/lib/python3.12/site-packages (from wandb>=0.13.5->transformer_lens) (5.28.3)\n",
      "Requirement already satisfied: sentry-sdk>=2.0.0 in /home/andrew/miniconda3/lib/python3.12/site-packages (from wandb>=0.13.5->transformer_lens) (2.17.0)\n",
      "Requirement already satisfied: setproctitle in /home/andrew/miniconda3/lib/python3.12/site-packages (from wandb>=0.13.5->transformer_lens) (1.3.3)\n",
      "Requirement already satisfied: six>=1.4.0 in /home/andrew/miniconda3/lib/python3.12/site-packages (from docker-pycreds>=0.4.0->wandb>=0.13.5->transformer_lens) (1.16.0)\n",
      "Requirement already satisfied: aiohappyeyeballs>=2.3.0 in /home/andrew/miniconda3/lib/python3.12/site-packages (from aiohttp->datasets>=2.7.1->transformer_lens) (2.4.3)\n",
      "Requirement already satisfied: aiosignal>=1.1.2 in /home/andrew/miniconda3/lib/python3.12/site-packages (from aiohttp->datasets>=2.7.1->transformer_lens) (1.3.1)\n",
      "Requirement already satisfied: attrs>=17.3.0 in /home/andrew/miniconda3/lib/python3.12/site-packages (from aiohttp->datasets>=2.7.1->transformer_lens) (23.2.0)\n",
      "Requirement already satisfied: frozenlist>=1.1.1 in /home/andrew/miniconda3/lib/python3.12/site-packages (from aiohttp->datasets>=2.7.1->transformer_lens) (1.5.0)\n",
      "Requirement already satisfied: multidict<7.0,>=4.5 in /home/andrew/miniconda3/lib/python3.12/site-packages (from aiohttp->datasets>=2.7.1->transformer_lens) (6.1.0)\n",
      "Requirement already satisfied: yarl<2.0,>=1.12.0 in /home/andrew/miniconda3/lib/python3.12/site-packages (from aiohttp->datasets>=2.7.1->transformer_lens) (1.16.0)\n",
      "Requirement already satisfied: gitdb<5,>=4.0.1 in /home/andrew/miniconda3/lib/python3.12/site-packages (from gitpython!=3.1.29,>=1.0.0->wandb>=0.13.5->transformer_lens) (4.0.11)\n",
      "Requirement already satisfied: mdurl~=0.1 in /home/andrew/miniconda3/lib/python3.12/site-packages (from markdown-it-py>=2.2.0->rich>=12.6.0->transformer_lens) (0.1.2)\n",
      "Requirement already satisfied: charset-normalizer<4,>=2 in /home/andrew/miniconda3/lib/python3.12/site-packages (from requests>=2.32.2->datasets>=2.7.1->transformer_lens) (2.0.4)\n",
      "Requirement already satisfied: idna<4,>=2.5 in /home/andrew/miniconda3/lib/python3.12/site-packages (from requests>=2.32.2->datasets>=2.7.1->transformer_lens) (3.4)\n",
      "Requirement already satisfied: urllib3<3,>=1.21.1 in /home/andrew/miniconda3/lib/python3.12/site-packages (from requests>=2.32.2->datasets>=2.7.1->transformer_lens) (2.1.0)\n",
      "Requirement already satisfied: certifi>=2017.4.17 in /home/andrew/miniconda3/lib/python3.12/site-packages (from requests>=2.32.2->datasets>=2.7.1->transformer_lens) (2024.2.2)\n",
      "Requirement already satisfied: MarkupSafe>=2.0 in /home/andrew/miniconda3/lib/python3.12/site-packages (from jinja2->torch>=1.10->transformer_lens) (2.1.5)\n",
      "Requirement already satisfied: smmap<6,>=3.0.1 in /home/andrew/miniconda3/lib/python3.12/site-packages (from gitdb<5,>=4.0.1->gitpython!=3.1.29,>=1.0.0->wandb>=0.13.5->transformer_lens) (5.0.1)\n",
      "Requirement already satisfied: propcache>=0.2.0 in /home/andrew/miniconda3/lib/python3.12/site-packages (from yarl<2.0,>=1.12.0->aiohttp->datasets>=2.7.1->transformer_lens) (0.2.0)\n",
      "Note: you may need to restart the kernel to use updated packages.\n",
      "Processing /home/andrew/Documents/Code/MechIR\n",
      "  Preparing metadata (setup.py) ... \u001b[?25ldone\n",
      "\u001b[?25hBuilding wheels for collected packages: mechir\n",
      "  Building wheel for mechir (setup.py) ... \u001b[?25ldone\n",
      "\u001b[?25h  Created wheel for mechir: filename=mechir-0.0.1-py3-none-any.whl size=76527 sha256=549ec71593e7476a5bcecf264dc4a238176babaf5b1c3472e53fab84a2df16e9\n",
      "  Stored in directory: /tmp/pip-ephem-wheel-cache-tq1ty5ep/wheels/16/4d/fd/e2f041bb0629a1af518d10cab4601f84986b0213a8a30041cf\n",
      "Successfully built mechir\n",
      "Installing collected packages: mechir\n",
      "  Attempting uninstall: mechir\n",
      "    Found existing installation: mechir 0.0.1\n",
      "    Uninstalling mechir-0.0.1:\n",
      "      Successfully uninstalled mechir-0.0.1\n",
      "Successfully installed mechir-0.0.1\n",
      "Note: you may need to restart the kernel to use updated packages.\n"
     ]
    }
   ],
   "source": [
    "%pip install matplotlib seaborn plotly streamlit\n",
    "%pip install torch torchvision torchaudio --index-url https://download.pytorch.org/whl/cpu\n",
    "%pip install jaxtyping transformer_lens\n",
    "%pip install git+https://github.com/Parry-Parry/MechIR.git"
   ]
  },
  {
   "cell_type": "code",
   "execution_count": 2,
   "metadata": {},
   "outputs": [],
   "source": [
    "import os\n",
    "import numpy as np\n",
    "import matplotlib.pyplot as plt\n",
    "import seaborn as sns\n",
    "from matplotlib.gridspec import GridSpec"
   ]
  },
  {
   "cell_type": "code",
   "execution_count": 3,
   "metadata": {},
   "outputs": [],
   "source": [
    "DIR = r'../data/patching/'"
   ]
  },
  {
   "cell_type": "code",
   "execution_count": 4,
   "metadata": {},
   "outputs": [],
   "source": [
    "out = {}\n",
    "for file in os.listdir(DIR):\n",
    "    out[file] = np.load(DIR + file)"
   ]
  },
  {
   "cell_type": "code",
   "execution_count": 5,
   "metadata": {},
   "outputs": [],
   "source": [
    "def plot_components(\n",
    "        data, # shape: (num_layers, num_heads) or (num_layers, num_heads + 1) if include_mlp=True\n",
    "        save_path,\n",
    "        title=\"\",\n",
    "        include_mlp=False\n",
    "    ):\n",
    "    # set talk context \n",
    "    sns.set_context(\"talk\")\n",
    "\n",
    "    data = data.astype(float)\n",
    "    plt.figure(figsize=(10, 6))\n",
    "\n",
    "    ax = sns.heatmap(\n",
    "        data,\n",
    "        cmap='RdBu',\n",
    "        vmin=-1,\n",
    "        vmax=1,\n",
    "        xticklabels=True,\n",
    "        yticklabels=True,\n",
    "        fmt=\".2f\",\n",
    "        #annot_kws={\"size\": 8},\n",
    "        annot=False\n",
    "    )\n",
    "\n",
    "    #for i in range(data.shape[0]):\n",
    "        #for j in range(data.shape[1]):\n",
    "            #plt.text(j+0.5, i+0.5, f'{data[i, j]:.2f}', ha='center', va='center', color='black')\n",
    "\n",
    "    \n",
    "    if include_mlp:\n",
    "        new_labels = list(map(str, range(data.shape[1]-1)))\n",
    "        new_labels.append('MLP')\n",
    "        ax.set_xticklabels(new_labels)\n",
    "\n",
    "    plt.title(title)\n",
    "    plt.xlabel('Head')\n",
    "    plt.ylabel('Layer')\n",
    "\n",
    "    if save_path:\n",
    "        plt.savefig(save_path)\n",
    "        plt.close()\n",
    "\n",
    "    return plt.gcf()"
   ]
  },
  {
   "cell_type": "code",
   "execution_count": 24,
   "metadata": {},
   "outputs": [],
   "source": [
    "def plot_multiple_components(\n",
    "    data_list,  # list of arrays, each with shape (num_layers, num_heads) or (num_layers, num_heads + 1)\n",
    "    titles,     # list of titles for each heatmap\n",
    "    save_path=None,\n",
    "    include_mlp=False\n",
    "):\n",
    "    # Set talk context\n",
    "    sns.set_context(\"talk\")\n",
    "    \n",
    "    # Create figure with GridSpec for better control over spacing\n",
    "    fig = plt.figure(figsize=(5 * len(data_list), 6))\n",
    "    gs = GridSpec(1, len(data_list) + 1, width_ratios=[10] * len(data_list) + [0.5])\n",
    "    \n",
    "    # Store the first norm for consistent color scaling\n",
    "    vmin = min(data.min() for data in data_list)\n",
    "    vmax = max(data.max() for data in data_list)\n",
    "    \n",
    "    axes = []\n",
    "    for idx, (data, title) in enumerate(zip(data_list, titles)):\n",
    "        data = data.astype(float)\n",
    "        \n",
    "        # Create subplot\n",
    "        ax = fig.add_subplot(gs[0, idx])\n",
    "        axes.append(ax)\n",
    "        \n",
    "        # Create heatmap\n",
    "        hm = sns.heatmap(\n",
    "            data,\n",
    "            cmap='RdBu',\n",
    "            vmin=-1,\n",
    "            vmax=1,\n",
    "            xticklabels=True,\n",
    "            yticklabels=True,\n",
    "            fmt=\".2f\",\n",
    "            annot=False,\n",
    "            cbar=False,  # Don't show colorbar for individual plots\n",
    "            ax=ax\n",
    "        )\n",
    "        # rotate x ticks\n",
    "        plt.xticks(rotation=0)\n",
    "        plt.yticks(rotation=0)\n",
    "        \n",
    "        # Set labels and title\n",
    "        if include_mlp:\n",
    "            new_labels = list(map(str, range(data.shape[1]-1)))\n",
    "            new_labels.append('MLP')\n",
    "            ax.set_xticklabels(new_labels)\n",
    "        \n",
    "        ax.set_title(title)\n",
    "        \n",
    "        # Only show y-label for the leftmost plot\n",
    "        if idx == 0:\n",
    "            ax.set_ylabel('Layer')\n",
    "        else:\n",
    "            ax.set_ylabel('')\n",
    "        \n",
    "        ax.set_xlabel('Head')\n",
    "    \n",
    "    # Add a single colorbar on the right\n",
    "    cbar_ax = fig.add_subplot(gs[0, -1])\n",
    "    cbar = plt.colorbar(axes[0].collections[0], cax=cbar_ax)\n",
    "    cbar.outline.set_visible(False)  \n",
    "    \n",
    "    # Adjust layout to prevent overlap\n",
    "    plt.tight_layout()\n",
    "    \n",
    "    if save_path:\n",
    "        plt.savefig(save_path, bbox_inches='tight')\n",
    "        plt.close()\n",
    "    \n",
    "    return fig"
   ]
  },
  {
   "cell_type": "code",
   "execution_count": 7,
   "metadata": {},
   "outputs": [],
   "source": [
    "components = []\n",
    "names = []\n",
    "for file in out:\n",
    "    if 'rel_3' in file:\n",
    "        components.append(out[file])\n",
    "        name = '' \n",
    "        if 'z' in file:\n",
    "            name += 'Cross-Encoder'\n",
    "        else:\n",
    "            name += 'Bi-Encoder' \n",
    "        if 'TDC' in file:\n",
    "            name += ' TDC'\n",
    "        else:\n",
    "            name += ' TFC1'\n",
    "        names.append(name)\n"
   ]
  },
  {
   "cell_type": "code",
   "execution_count": 25,
   "metadata": {},
   "outputs": [
    {
     "data": {
      "image/png": "[encoded data removed]",
      "text/plain": [
       "<Figure size 2000x600 with 5 Axes>"
      ]
     },
     "execution_count": 25,
     "metadata": {},
     "output_type": "execute_result"
    }
   ],
   "source": [
    "plot_multiple_components(components[::-1], names[::-1], save_path='plot/patch.pdf')"
   ]
  },
  {
   "cell_type": "code",
   "execution_count": 1,
   "metadata": {},
   "outputs": [],
   "source": [
    "import pandas as pd"
   ]
  },
  {
   "cell_type": "code",
   "execution_count": 3,
   "metadata": {},
   "outputs": [],
   "source": [
    "data = pd.read_csv('/mnt/qb/work/eickhoff/esx208/MechIR/data/topk/sebastian-hofstaetter-distilbert-dot-tas_b-b256-msmarco_bi_TFC1_topk_4000.tsv', sep='\\t')"
   ]
  },
  {
   "cell_type": "code",
   "execution_count": 6,
   "metadata": {},
   "outputs": [
    {
     "data": {
      "text/plain": [
       "relevance\n",
       "0    1000\n",
       "1    1000\n",
       "2    1000\n",
       "3    1000\n",
       "Name: count, dtype: int64"
      ]
     },
     "execution_count": 6,
     "metadata": {},
     "output_type": "execute_result"
    }
   ],
   "source": [
    "data.relevance.value_counts()"
   ]
  },
  {
   "cell_type": "code",
   "execution_count": 9,
   "metadata": {},
   "outputs": [],
   "source": [
    "data = pd.read_csv('/mnt/qb/work/eickhoff/esx208/MechIR/data/topk/sebastian-hofstaetter-distilbert-dot-tas_b-b256-msmarco_bi_TFC1_topk_1000.tsv', sep='\\t')"
   ]
  },
  {
   "cell_type": "code",
   "execution_count": 12,
   "metadata": {},
   "outputs": [
    {
     "data": {
      "text/plain": [
       "relevance\n",
       "0    250\n",
       "1    250\n",
       "2    250\n",
       "3    250\n",
       "Name: count, dtype: int64"
      ]
     },
     "execution_count": 12,
     "metadata": {},
     "output_type": "execute_result"
    }
   ],
   "source": [
    "data.relevance.value_counts()"
   ]
  },
  {
   "cell_type": "code",
   "execution_count": 7,
   "metadata": {},
   "outputs": [],
   "source": [
    "data = pd.read_csv('/mnt/qb/work/eickhoff/esx208/MechIR/data/topk_my/sebastian-hofstaetter-distilbert-dot-tas_b-b256-msmarco_bi_STMC1_topk_4000.tsv', sep='\\t')"
   ]
  },
  {
   "cell_type": "code",
   "execution_count": 8,
   "metadata": {},
   "outputs": [
    {
     "data": {
      "text/plain": [
       "relevance\n",
       "0    1000\n",
       "1    1000\n",
       "2    1000\n",
       "3    1000\n",
       "Name: count, dtype: int64"
      ]
     },
     "execution_count": 8,
     "metadata": {},
     "output_type": "execute_result"
    }
   ],
   "source": [
    "data.relevance.value_counts()"
   ]
  },
  {
   "cell_type": "code",
   "execution_count": null,
   "metadata": {},
   "outputs": [],
   "source": []
  }
 ],
 "metadata": {
  "kernelspec": {
   "display_name": "Python 3 (ipykernel)",
   "language": "python",
   "name": "python3"
  },
  "language_info": {
   "codemirror_mode": {
    "name": "ipython",
    "version": 3
   },
   "file_extension": ".py",
   "mimetype": "text/x-python",
   "name": "python",
   "nbconvert_exporter": "python",
   "pygments_lexer": "ipython3",
   "version": "3.9.19"
  }
 },
 "nbformat": 4,
 "nbformat_minor": 2
}
