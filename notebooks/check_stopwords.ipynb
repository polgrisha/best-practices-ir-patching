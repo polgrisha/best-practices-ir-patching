{
 "cells": [
  {
   "cell_type": "code",
   "execution_count": 12,
   "metadata": {},
   "outputs": [],
   "source": [
    "import pandas as pd\n",
    "\n",
    "def load_stopwords(file_path: str) -> list:\n",
    "    with open(file_path, 'r') as file:\n",
    "        stopwords = [line.strip() for line in file if line.strip()]\n",
    "    return stopwords"
   ]
  },
  {
   "cell_type": "code",
   "execution_count": 13,
   "metadata": {},
   "outputs": [],
   "source": [
    "tfc1_data = pd.read_csv('/mnt/qb/work/eickhoff/esx208/MechIR/data/TFC1-data.tsv.gz', sep='\\t')\n",
    "stopwords = load_stopwords('/mnt/qb/work/eickhoff/esx208/MechIR/src/mechir/perturb/data/stopwords.txt')"
   ]
  },
  {
   "cell_type": "code",
   "execution_count": 17,
   "metadata": {},
   "outputs": [
    {
     "name": "stderr",
     "output_type": "stream",
     "text": [
      "/tmp/ipykernel_1586481/3774342666.py:2: SettingWithCopyWarning: \n",
      "A value is trying to be set on a copy of a slice from a DataFrame.\n",
      "Try using .loc[row_indexer,col_indexer] = value instead\n",
      "\n",
      "See the caveats in the documentation: https://pandas.pydata.org/pandas-docs/stable/user_guide/indexing.html#returning-a-view-versus-a-copy\n",
      "  tfc1_data_perturbed['injected_term'] = tfc1_data_perturbed['text'].apply(lambda x: x.split(' ')[-1])\n",
      "/tmp/ipykernel_1586481/3774342666.py:3: SettingWithCopyWarning: \n",
      "A value is trying to be set on a copy of a slice from a DataFrame.\n",
      "Try using .loc[row_indexer,col_indexer] = value instead\n",
      "\n",
      "See the caveats in the documentation: https://pandas.pydata.org/pandas-docs/stable/user_guide/indexing.html#returning-a-view-versus-a-copy\n",
      "  tfc1_data_perturbed['is_stopword_injected'] = tfc1_data_perturbed['injected_term'].apply(lambda x: x in stopwords)\n"
     ]
    }
   ],
   "source": [
    "tfc1_data_perturbed = tfc1_data[tfc1_data['perturbed'] == True]\n",
    "tfc1_data_perturbed['injected_term'] = tfc1_data_perturbed['text'].apply(lambda x: x.split(' ')[-1])\n",
    "tfc1_data_perturbed['is_stopword_injected'] = tfc1_data_perturbed['injected_term'].apply(lambda x: x in stopwords)"
   ]
  },
  {
   "cell_type": "code",
   "execution_count": 19,
   "metadata": {},
   "outputs": [
    {
     "data": {
      "text/plain": [
       "is_stopword_injected\n",
       "False    20646\n",
       "Name: count, dtype: int64"
      ]
     },
     "execution_count": 19,
     "metadata": {},
     "output_type": "execute_result"
    }
   ],
   "source": [
    "tfc1_data_perturbed['is_stopword_injected'].value_counts()"
   ]
  },
  {
   "cell_type": "code",
   "execution_count": null,
   "metadata": {},
   "outputs": [],
   "source": []
  }
 ],
 "metadata": {
  "kernelspec": {
   "display_name": "Python 3 (ipykernel)",
   "language": "python",
   "name": "python3"
  },
  "language_info": {
   "codemirror_mode": {
    "name": "ipython",
    "version": 3
   },
   "file_extension": ".py",
   "mimetype": "text/x-python",
   "name": "python",
   "nbconvert_exporter": "python",
   "pygments_lexer": "ipython3",
   "version": "3.9.19"
  }
 },
 "nbformat": 4,
 "nbformat_minor": 2
}
